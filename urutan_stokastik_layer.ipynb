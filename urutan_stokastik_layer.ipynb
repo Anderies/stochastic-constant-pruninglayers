{
  "nbformat": 4,
  "nbformat_minor": 0,
  "metadata": {
    "colab": {
      "name": "urutan-stokastik-layer.ipynb",
      "provenance": [],
      "collapsed_sections": []
    },
    "kernelspec": {
      "name": "python3",
      "display_name": "Python 3"
    }
  },
  "cells": [
    {
      "cell_type": "markdown",
      "metadata": {
        "id": "VfUtwfywlblR"
      },
      "source": [
        "Belajar Implementasi untuk Thesis"
      ]
    },
    {
      "cell_type": "code",
      "metadata": {
        "id": "wOJpT5Sc2v9Q"
      },
      "source": [
        "import torch\n",
        "import torch.nn as nn\n",
        "import torchvision.models as models\n",
        "import torchvision\n",
        "\n",
        "model = torch.hub.load('pytorch/vision:v0.6.0', 'resnet18', pretrained=True)\n",
        "\n",
        "model.eval()"
      ],
      "execution_count": null,
      "outputs": []
    },
    {
      "cell_type": "code",
      "metadata": {
        "id": "qXpE3C2Gkdeg"
      },
      "source": [
        "resnet50 = torchvision.models.resnet50(pretrained=True)\n",
        "\n",
        "# Akses Sekuensial\n",
        "# torch.nn.Sequential(*(list(resnet50.children())[1:2]))\n",
        "# layer5 = torch.nn.Sequential(*(list(resnet50.children())[5:6]))\n",
        "print(resnet50)"
      ],
      "execution_count": null,
      "outputs": []
    },
    {
      "cell_type": "markdown",
      "metadata": {
        "id": "X-V_ZbtgeDOk"
      },
      "source": [
        "## **Stokastik Layer ke 1**"
      ]
    },
    {
      "cell_type": "code",
      "metadata": {
        "id": "zVGpJQyvUoMe",
        "colab": {
          "base_uri": "https://localhost:8080/"
        },
        "outputId": "1034697f-f813-4ecd-dd69-2e29bad6dce8"
      },
      "source": [
        "layer1_conv = torch.nn.Sequential(*(list(resnet50.children())[4:5]))\n",
        "\n",
        "stokastik_layer1_conv = []\n",
        "layer1_conv_access_1 = None;\n",
        "layer1_conv_access_2 = None;\n",
        "layer1_conv_access_3 = None;\n",
        "for access in layer1_conv: \n",
        "  layer1_conv_access_1 = access[0]\n",
        "  # print(f\"child{z}\",access[0])\n",
        "\n",
        "for access2 in layer1_conv: \n",
        "  layer1_conv_access_2 = access2[1]\n",
        "  # print(f\"child{1}\",access2[1])\n",
        "\n",
        "for access3 in layer1_conv: \n",
        "  # print(\"siap untuk ditukar\",access3[2].conv1)\n",
        "  layer1_conv_access_3 = access3[2]\n",
        "  # print(\"===============\\n\")\n",
        "  # print(f\"child{2}\",access3[2])\n",
        "\n",
        "stokastik_layer1_conv.append(layer1_conv_access_1)\n",
        "stokastik_layer1_conv.append(layer1_conv_access_3)\n",
        "stokastik_layer1_conv.append(layer1_conv_access_2)\n",
        "stokastik_layer1_conv"
      ],
      "execution_count": null,
      "outputs": [
        {
          "output_type": "execute_result",
          "data": {
            "text/plain": [
              "[Bottleneck(\n",
              "   (conv1): Conv2d(64, 64, kernel_size=(1, 1), stride=(1, 1), bias=False)\n",
              "   (bn1): BatchNorm2d(64, eps=1e-05, momentum=0.1, affine=True, track_running_stats=True)\n",
              "   (conv2): Conv2d(64, 64, kernel_size=(3, 3), stride=(1, 1), padding=(1, 1), bias=False)\n",
              "   (bn2): BatchNorm2d(64, eps=1e-05, momentum=0.1, affine=True, track_running_stats=True)\n",
              "   (conv3): Conv2d(64, 256, kernel_size=(1, 1), stride=(1, 1), bias=False)\n",
              "   (bn3): BatchNorm2d(256, eps=1e-05, momentum=0.1, affine=True, track_running_stats=True)\n",
              "   (relu): ReLU(inplace=True)\n",
              "   (downsample): Sequential(\n",
              "     (0): Conv2d(64, 256, kernel_size=(1, 1), stride=(1, 1), bias=False)\n",
              "     (1): BatchNorm2d(256, eps=1e-05, momentum=0.1, affine=True, track_running_stats=True)\n",
              "   )\n",
              " ), Bottleneck(\n",
              "   (conv1): Conv2d(256, 64, kernel_size=(1, 1), stride=(1, 1), bias=False)\n",
              "   (bn1): BatchNorm2d(64, eps=1e-05, momentum=0.1, affine=True, track_running_stats=True)\n",
              "   (conv2): Conv2d(64, 64, kernel_size=(3, 3), stride=(1, 1), padding=(1, 1), bias=False)\n",
              "   (bn2): BatchNorm2d(64, eps=1e-05, momentum=0.1, affine=True, track_running_stats=True)\n",
              "   (conv3): Conv2d(64, 256, kernel_size=(1, 1), stride=(1, 1), bias=False)\n",
              "   (bn3): BatchNorm2d(256, eps=1e-05, momentum=0.1, affine=True, track_running_stats=True)\n",
              "   (relu): ReLU(inplace=True)\n",
              " ), Bottleneck(\n",
              "   (conv1): Conv2d(256, 64, kernel_size=(1, 1), stride=(1, 1), bias=False)\n",
              "   (bn1): BatchNorm2d(64, eps=1e-05, momentum=0.1, affine=True, track_running_stats=True)\n",
              "   (conv2): Conv2d(64, 64, kernel_size=(3, 3), stride=(1, 1), padding=(1, 1), bias=False)\n",
              "   (bn2): BatchNorm2d(64, eps=1e-05, momentum=0.1, affine=True, track_running_stats=True)\n",
              "   (conv3): Conv2d(64, 256, kernel_size=(1, 1), stride=(1, 1), bias=False)\n",
              "   (bn3): BatchNorm2d(256, eps=1e-05, momentum=0.1, affine=True, track_running_stats=True)\n",
              "   (relu): ReLU(inplace=True)\n",
              " )]"
            ]
          },
          "metadata": {
            "tags": []
          },
          "execution_count": 84
        }
      ]
    },
    {
      "cell_type": "code",
      "metadata": {
        "id": "6pkaEOS3dwfe",
        "colab": {
          "base_uri": "https://localhost:8080/"
        },
        "outputId": "e08f4eb3-8c76-4dfb-9a01-8317628e1cc7"
      },
      "source": [
        "print(\"Urutan Asli Resnet ================\",layer2_conv2)"
      ],
      "execution_count": null,
      "outputs": [
        {
          "output_type": "stream",
          "text": [
            "Urutan Asli Resnet ================ Sequential(\n",
            "  (0): Sequential(\n",
            "    (0): Bottleneck(\n",
            "      (conv1): Conv2d(64, 64, kernel_size=(1, 1), stride=(1, 1), bias=False)\n",
            "      (bn1): BatchNorm2d(64, eps=1e-05, momentum=0.1, affine=True, track_running_stats=True)\n",
            "      (conv2): Conv2d(64, 64, kernel_size=(3, 3), stride=(1, 1), padding=(1, 1), bias=False)\n",
            "      (bn2): BatchNorm2d(64, eps=1e-05, momentum=0.1, affine=True, track_running_stats=True)\n",
            "      (conv3): Conv2d(64, 256, kernel_size=(1, 1), stride=(1, 1), bias=False)\n",
            "      (bn3): BatchNorm2d(256, eps=1e-05, momentum=0.1, affine=True, track_running_stats=True)\n",
            "      (relu): ReLU(inplace=True)\n",
            "      (downsample): Sequential(\n",
            "        (0): Conv2d(64, 256, kernel_size=(1, 1), stride=(1, 1), bias=False)\n",
            "        (1): BatchNorm2d(256, eps=1e-05, momentum=0.1, affine=True, track_running_stats=True)\n",
            "      )\n",
            "    )\n",
            "    (1): Bottleneck(\n",
            "      (conv1): Conv2d(256, 64, kernel_size=(1, 1), stride=(1, 1), bias=False)\n",
            "      (bn1): BatchNorm2d(64, eps=1e-05, momentum=0.1, affine=True, track_running_stats=True)\n",
            "      (conv2): Conv2d(64, 64, kernel_size=(3, 3), stride=(1, 1), padding=(1, 1), bias=False)\n",
            "      (bn2): BatchNorm2d(64, eps=1e-05, momentum=0.1, affine=True, track_running_stats=True)\n",
            "      (conv3): Conv2d(64, 256, kernel_size=(1, 1), stride=(1, 1), bias=False)\n",
            "      (bn3): BatchNorm2d(256, eps=1e-05, momentum=0.1, affine=True, track_running_stats=True)\n",
            "      (relu): ReLU(inplace=True)\n",
            "    )\n",
            "    (2): Bottleneck(\n",
            "      (conv1): Conv2d(256, 64, kernel_size=(1, 1), stride=(1, 1), bias=False)\n",
            "      (bn1): BatchNorm2d(64, eps=1e-05, momentum=0.1, affine=True, track_running_stats=True)\n",
            "      (conv2): Conv2d(64, 64, kernel_size=(3, 3), stride=(1, 1), padding=(1, 1), bias=False)\n",
            "      (bn2): BatchNorm2d(64, eps=1e-05, momentum=0.1, affine=True, track_running_stats=True)\n",
            "      (conv3): Conv2d(64, 256, kernel_size=(1, 1), stride=(1, 1), bias=False)\n",
            "      (bn3): BatchNorm2d(256, eps=1e-05, momentum=0.1, affine=True, track_running_stats=True)\n",
            "      (relu): ReLU(inplace=True)\n",
            "    )\n",
            "  )\n",
            ")\n"
          ],
          "name": "stdout"
        }
      ]
    },
    {
      "cell_type": "markdown",
      "metadata": {
        "id": "hujR2dt3KZnD"
      },
      "source": [
        "## **STOKASTIK URUTAN LAYER 2**"
      ]
    },
    {
      "cell_type": "code",
      "metadata": {
        "id": "8rFRuBFDU2XF"
      },
      "source": [
        "layer2_conv = torch.nn.Sequential(*(list(resnet50.children())[5:6]))\n",
        "stokastik_layer2_conv = []\n",
        "\n",
        "\n",
        "for access2 in layer2_conv:\n",
        "  for x in range(4):\n",
        "    layer2_conv_access_1 = access2[0]\n",
        "    layer2_conv_access_2 = access2[1]\n",
        "    layer2_conv_access_3 = access2[2]\n",
        "    layer2_conv_access_4 = access2[3]\n",
        "\n",
        "    \n",
        "   \n",
        "stokastik_layer2_conv.append(layer2_conv_access_1)\n",
        "stokastik_layer2_conv.append(layer2_conv_access_4)\n",
        "stokastik_layer2_conv.append(layer2_conv_access_3)\n",
        "stokastik_layer2_conv.append(layer2_conv_access_2)\n",
        "stokastik_layer2_conv"
      ],
      "execution_count": null,
      "outputs": []
    },
    {
      "cell_type": "markdown",
      "metadata": {
        "id": "C8oHNUoDhKB5"
      },
      "source": [
        "# **STOKASTIK URUTAN LAYER 3**"
      ]
    },
    {
      "cell_type": "code",
      "metadata": {
        "id": "WdeXnwkWLoum"
      },
      "source": [
        "layer3_conv = torch.nn.Sequential(*(list(resnet50.children())[6:7]))\n",
        "stokastik_layer3_conv = []\n",
        "\n",
        "layer3_conv\n",
        "for access3 in layer3_conv:\n",
        "  for x in range(6):\n",
        "    layer3_conv_access_1 = access3[0]\n",
        "    layer3_conv_access_2 = access3[1]\n",
        "    layer3_conv_access_3 = access3[2]\n",
        "    layer3_conv_access_4 = access3[3]\n",
        "    layer3_conv_access_5 = access3[4]\n",
        "    layer3_conv_access_6 = access3[5]\n",
        "\n",
        "  \n",
        "   \n",
        "stokastik_layer3_conv.append(layer3_conv_access_1)\n",
        "stokastik_layer3_conv.append(layer3_conv_access_6)\n",
        "stokastik_layer3_conv.append(layer3_conv_access_5)\n",
        "stokastik_layer3_conv.append(layer3_conv_access_4)\n",
        "stokastik_layer3_conv.append(layer3_conv_access_2)\n",
        "stokastik_layer3_conv.append(layer3_conv_access_3)\n",
        "stokastik_layer3_conv"
      ],
      "execution_count": null,
      "outputs": []
    },
    {
      "cell_type": "markdown",
      "metadata": {
        "id": "cqBHXgNDhIGh"
      },
      "source": [
        "# **STOKASTIK URUTAN LAYER 4**"
      ]
    },
    {
      "cell_type": "code",
      "metadata": {
        "id": "VvLiHg1EhEUL"
      },
      "source": [
        "layer4_conv = torch.nn.Sequential(*(list(resnet50.children())[7:8]))\n",
        "stokastik_layer4_conv = []\n",
        "\n",
        "layer4_conv\n",
        "for access3 in layer4_conv:\n",
        "  for x in range(3):\n",
        "    layer3_conv_access_1 = access3[0]\n",
        "    layer3_conv_access_2 = access3[1]\n",
        "    layer3_conv_access_3 = access3[2]\n",
        "\n",
        "  \n",
        "   \n",
        "stokastik_layer4_conv.append(layer3_conv_access_1)\n",
        "stokastik_layer4_conv.append(layer3_conv_access_3)\n",
        "stokastik_layer4_conv.append(layer3_conv_access_2)\n",
        "stokastik_layer4_conv"
      ],
      "execution_count": null,
      "outputs": []
    },
    {
      "cell_type": "code",
      "metadata": {
        "colab": {
          "base_uri": "https://localhost:8080/"
        },
        "id": "wpwsoT0OiJDa",
        "outputId": "4368b5fa-8829-4784-e4b3-4f4e2a75c521"
      },
      "source": [
        "layer5_conv = torch.nn.Sequential(*(list(resnet50.children())[8:9]))\n",
        "layer5_conv "
      ],
      "execution_count": null,
      "outputs": [
        {
          "output_type": "execute_result",
          "data": {
            "text/plain": [
              "Sequential(\n",
              "  (0): AdaptiveAvgPool2d(output_size=(1, 1))\n",
              ")"
            ]
          },
          "metadata": {
            "tags": []
          },
          "execution_count": 98
        }
      ]
    },
    {
      "cell_type": "code",
      "metadata": {
        "colab": {
          "base_uri": "https://localhost:8080/"
        },
        "id": "XHq41DYGiliF",
        "outputId": "b3ea9ca6-7ad8-450c-dd2a-7534d1980a33"
      },
      "source": [
        "layer6_conv = torch.nn.Sequential(*(list(resnet50.children())[9:10]))\n",
        "layer6_conv"
      ],
      "execution_count": null,
      "outputs": [
        {
          "output_type": "execute_result",
          "data": {
            "text/plain": [
              "Sequential(\n",
              "  (0): Linear(in_features=2048, out_features=1000, bias=True)\n",
              ")"
            ]
          },
          "metadata": {
            "tags": []
          },
          "execution_count": 99
        }
      ]
    },
    {
      "cell_type": "code",
      "metadata": {
        "id": "nrgKXlSCAkNb"
      },
      "source": [
        "class resnet_base_model(nn.Module):\n",
        "    def __init__(self):\n",
        "        super(resnet_base_model, self).__init__()\n",
        "        r_mode = torchvision.models.resnet18(pretrained=True)\n",
        "        self.Conv1 = torch.nn.Sequential(*(list(resnet2.children())[:1]))\n",
        "        self.Conv2 = torch.nn.Sequential(*(list(r_mode.children())[1:2]))\n",
        "        self.Conv3 = torch.nn.Sequential(*(list(r_mode.children())[2:3]))\n",
        "        self.Conv4 = torch.nn.Sequential(*(list(r_mode.children())[3:4]))\n",
        "        self.Conv5 = torch.nn.Sequential(*(list(r_mode.children())[5:6]))\n",
        "        self.Conv6 = torch.nn.Sequential(*(list(r_mode.children())[4:5]))\n",
        "        self.Conv7 = torch.nn.Sequential(*(list(r_mode.children())[6:7]))\n",
        "        self.Conv8 = torch.nn.Sequential(*(list(r_mode.children())[7:8]))\n",
        "        self.Conv9 = torch.nn.Sequential(*(list(r_mode.children())[8:9]))\n",
        "        self.Conv10 = torch.nn.Sequential(*(list(r_mode.children())[9:10]))\n",
        "\n",
        "    def forward(self, x):\n",
        "        out1 = self.Conv1(x)\n",
        "        out1 = F.relu(out1)\n",
        "        out1 = self.Conv2(out1)\n",
        "        out1 = F.relu(out1)\n",
        "        out1_mp = F.max_pool2d(out1, 2, 2)\n",
        "        out2 = self.Conv3(out1_mp)\n",
        "        out2 = F.relu(out2)\n",
        "        out2 = self.Conv4(out2)\n",
        "        out2 = F.relu(out2)\n",
        "        out2_mp = F.max_pool2d(out2, 2, 2)\n",
        "        out3 = self.Conv5(out2_mp)\n",
        "        out3 = F.relu(out3)\n",
        "        out3 = self.Conv6(out3)\n",
        "        out3 = F.relu(out3)\n",
        "        out3 = self.Conv7(out3)\n",
        "        out3 = F.relu(out3)\n",
        "        # up sampling to create output with the same size\n",
        "        out2 = self.upSample1(out2)\n",
        "        out3 = self.upSample2(out3)\n",
        "        #out7_mp = F.max_pool2d(out7, 2, 2)\n",
        "        concat_features = torch.cat([out1, out2, out3], 1)\n",
        "        return out1, concat_features\n",
        "\n",
        "\n",
        "test1 = resnet_base_model()\n",
        "\n",
        "print(\"test\",test1)"
      ],
      "execution_count": null,
      "outputs": []
    },
    {
      "cell_type": "code",
      "metadata": {
        "id": "YCkc42kTt4a9"
      },
      "source": [
        "class custom_model(nn.Module):\n",
        "    def __init__(self):\n",
        "        super(custom_model, self).__init__()\n",
        "        r_mode = torchvision.models.resnet18(pretrained=True)\n",
        "        self.Conv1 = torch.nn.Sequential(*(list(resnet18.children())[:1])) \n",
        "        \n",
        "        self.Conv2 = torch.nn.Sequential(*(list(r_mode.children())[2:3]))\n",
        "        self.Conv3 = torch.nn.Sequential(*(list(r_mode.children())[3:4]))\n",
        "        self.Conv4 = torch.nn.Sequential(*(list(r_mode.children())[1:2]))\n",
        "        \n",
        "        self.Conv5 = torch.nn.Sequential(*(list(r_mode.children())[6:7]))\n",
        "        self.Conv6 = torch.nn.Sequential(*(list(r_mode.children())[4:5]))\n",
        "        self.Conv7 = torch.nn.Sequential(*(list(r_mode.children())[5:6]))\n",
        "        self.Conv8 = torch.nn.Sequential(*(list(r_mode.children())[7:8]))\n",
        "\n",
        "        self.Conv9 = torch.nn.Sequential(*(list(r_mode.children())[8:9]))\n",
        "        self.Conv10 = torch.nn.Sequential(*(list(r_mode.children())[9:10]))\n",
        "        \n",
        "\n",
        "    def forward(self, x):\n",
        "        out1 = self.Conv1(x)\n",
        "        out1 = F.relu(out1)\n",
        "        out1 = self.Conv2(out1)\n",
        "        out1 = F.relu(out1)\n",
        "        out1_mp = F.max_pool2d(out1, 2, 2)\n",
        "        out2 = self.Conv3(out1_mp)\n",
        "        out2 = F.relu(out2)\n",
        "        out2 = self.Conv4(out2)\n",
        "        out2 = F.relu(out2)\n",
        "        out2_mp = F.max_pool2d(out2, 2, 2)\n",
        "        out3 = self.Conv5(out2_mp)\n",
        "        out3 = F.relu(out3)\n",
        "        out3 = self.Conv6(out3)\n",
        "        out3 = F.relu(out3)\n",
        "        out3 = self.Conv7(out3)\n",
        "        out3 = F.relu(out3)\n",
        "        ###### up sampling to create output with the same size\n",
        "        out2 = self.upSample1(out2)\n",
        "        out3 = self.upSample2(out3)\n",
        "        #out7_mp = F.max_pool2d(out7, 2, 2)\n",
        "        concat_features = torch.cat([out1, out2, out3], 1)\n",
        "        return out1, concat_features\n",
        "\n",
        "\n",
        "bambino = custom_model()\n",
        "print(\"test\",bambino)"
      ],
      "execution_count": null,
      "outputs": []
    }
  ]
}